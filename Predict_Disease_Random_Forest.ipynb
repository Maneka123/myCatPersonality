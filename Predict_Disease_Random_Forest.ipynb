{
 "cells": [
  {
   "cell_type": "code",
   "execution_count": 19,
   "id": "a640bd6c",
   "metadata": {},
   "outputs": [],
   "source": [
    "import pandas as pd\n",
    "from sklearn.model_selection import train_test_split\n",
    "from sklearn.ensemble import RandomForestClassifier\n",
    "from sklearn.metrics import accuracy_score, classification_report, confusion_matrix\n",
    "from sklearn.preprocessing import MultiLabelBinarizer\n",
    "import seaborn as sns\n",
    "import matplotlib.pyplot as plt"
   ]
  },
  {
   "cell_type": "code",
   "execution_count": 20,
   "id": "03bdac33",
   "metadata": {},
   "outputs": [],
   "source": [
    "# Load the dataset\n",
    "data = pd.read_csv('medical_data.csv')"
   ]
  },
  {
   "cell_type": "code",
   "execution_count": 21,
   "id": "b62034a8",
   "metadata": {},
   "outputs": [
    {
     "data": {
      "text/html": [
       "<div>\n",
       "<style scoped>\n",
       "    .dataframe tbody tr th:only-of-type {\n",
       "        vertical-align: middle;\n",
       "    }\n",
       "\n",
       "    .dataframe tbody tr th {\n",
       "        vertical-align: top;\n",
       "    }\n",
       "\n",
       "    .dataframe thead th {\n",
       "        text-align: right;\n",
       "    }\n",
       "</style>\n",
       "<table border=\"1\" class=\"dataframe\">\n",
       "  <thead>\n",
       "    <tr style=\"text-align: right;\">\n",
       "      <th></th>\n",
       "      <th>Symptom1</th>\n",
       "      <th>Symptom2</th>\n",
       "      <th>Symptom3</th>\n",
       "      <th>Symptom4</th>\n",
       "      <th>Symptom5</th>\n",
       "      <th>Symptom6</th>\n",
       "      <th>Symptom7</th>\n",
       "      <th>Symptom8</th>\n",
       "      <th>Symptom9</th>\n",
       "      <th>Symptom10</th>\n",
       "      <th>...</th>\n",
       "      <th>Symptom44</th>\n",
       "      <th>Symptom45</th>\n",
       "      <th>Symptom46</th>\n",
       "      <th>Symptom47</th>\n",
       "      <th>Symptom48</th>\n",
       "      <th>Symptom49</th>\n",
       "      <th>Symptom50</th>\n",
       "      <th>Symptom51</th>\n",
       "      <th>Symptom52</th>\n",
       "      <th>Disease</th>\n",
       "    </tr>\n",
       "  </thead>\n",
       "  <tbody>\n",
       "    <tr>\n",
       "      <th>0</th>\n",
       "      <td>lumps</td>\n",
       "      <td>bad breath</td>\n",
       "      <td>listlessness</td>\n",
       "      <td>lethergy</td>\n",
       "      <td>weight loss</td>\n",
       "      <td>diarrhea</td>\n",
       "      <td>vomitting</td>\n",
       "      <td>none</td>\n",
       "      <td>none</td>\n",
       "      <td>none</td>\n",
       "      <td>...</td>\n",
       "      <td>none</td>\n",
       "      <td>none</td>\n",
       "      <td>none</td>\n",
       "      <td>none</td>\n",
       "      <td>none</td>\n",
       "      <td>none</td>\n",
       "      <td>none</td>\n",
       "      <td>none</td>\n",
       "      <td>none</td>\n",
       "      <td>Squamous cell carcinoma</td>\n",
       "    </tr>\n",
       "    <tr>\n",
       "      <th>1</th>\n",
       "      <td>none</td>\n",
       "      <td>bad breath</td>\n",
       "      <td>listlessness</td>\n",
       "      <td>lethergy</td>\n",
       "      <td>weight loss</td>\n",
       "      <td>diarrhea</td>\n",
       "      <td>vomitting</td>\n",
       "      <td>none</td>\n",
       "      <td>none</td>\n",
       "      <td>none</td>\n",
       "      <td>...</td>\n",
       "      <td>none</td>\n",
       "      <td>none</td>\n",
       "      <td>none</td>\n",
       "      <td>none</td>\n",
       "      <td>none</td>\n",
       "      <td>none</td>\n",
       "      <td>none</td>\n",
       "      <td>none</td>\n",
       "      <td>none</td>\n",
       "      <td>Squamous cell carcinoma</td>\n",
       "    </tr>\n",
       "    <tr>\n",
       "      <th>2</th>\n",
       "      <td>lumps</td>\n",
       "      <td>none</td>\n",
       "      <td>listlessness</td>\n",
       "      <td>lethergy</td>\n",
       "      <td>weight loss</td>\n",
       "      <td>diarrhea</td>\n",
       "      <td>vomitting</td>\n",
       "      <td>none</td>\n",
       "      <td>none</td>\n",
       "      <td>none</td>\n",
       "      <td>...</td>\n",
       "      <td>none</td>\n",
       "      <td>none</td>\n",
       "      <td>none</td>\n",
       "      <td>none</td>\n",
       "      <td>none</td>\n",
       "      <td>none</td>\n",
       "      <td>none</td>\n",
       "      <td>none</td>\n",
       "      <td>none</td>\n",
       "      <td>Squamous cell carcinoma</td>\n",
       "    </tr>\n",
       "    <tr>\n",
       "      <th>3</th>\n",
       "      <td>lumps</td>\n",
       "      <td>bad breath</td>\n",
       "      <td>none</td>\n",
       "      <td>lethergy</td>\n",
       "      <td>weight loss</td>\n",
       "      <td>diarrhea</td>\n",
       "      <td>vomitting</td>\n",
       "      <td>none</td>\n",
       "      <td>none</td>\n",
       "      <td>none</td>\n",
       "      <td>...</td>\n",
       "      <td>none</td>\n",
       "      <td>none</td>\n",
       "      <td>none</td>\n",
       "      <td>none</td>\n",
       "      <td>none</td>\n",
       "      <td>none</td>\n",
       "      <td>none</td>\n",
       "      <td>none</td>\n",
       "      <td>none</td>\n",
       "      <td>Squamous cell carcinoma</td>\n",
       "    </tr>\n",
       "    <tr>\n",
       "      <th>4</th>\n",
       "      <td>lumps</td>\n",
       "      <td>bad breath</td>\n",
       "      <td>listlessness</td>\n",
       "      <td>none</td>\n",
       "      <td>weight loss</td>\n",
       "      <td>diarrhea</td>\n",
       "      <td>vomitting</td>\n",
       "      <td>none</td>\n",
       "      <td>none</td>\n",
       "      <td>none</td>\n",
       "      <td>...</td>\n",
       "      <td>none</td>\n",
       "      <td>none</td>\n",
       "      <td>none</td>\n",
       "      <td>none</td>\n",
       "      <td>none</td>\n",
       "      <td>none</td>\n",
       "      <td>none</td>\n",
       "      <td>none</td>\n",
       "      <td>none</td>\n",
       "      <td>Squamous cell carcinoma</td>\n",
       "    </tr>\n",
       "  </tbody>\n",
       "</table>\n",
       "<p>5 rows × 53 columns</p>\n",
       "</div>"
      ],
      "text/plain": [
       "  Symptom1    Symptom2      Symptom3  Symptom4     Symptom5  Symptom6  \\\n",
       "0    lumps  bad breath  listlessness  lethergy  weight loss  diarrhea   \n",
       "1     none  bad breath  listlessness  lethergy  weight loss  diarrhea   \n",
       "2    lumps        none  listlessness  lethergy  weight loss  diarrhea   \n",
       "3    lumps  bad breath          none  lethergy  weight loss  diarrhea   \n",
       "4    lumps  bad breath  listlessness      none  weight loss  diarrhea   \n",
       "\n",
       "    Symptom7 Symptom8 Symptom9 Symptom10  ... Symptom44 Symptom45 Symptom46  \\\n",
       "0  vomitting     none     none      none  ...      none      none      none   \n",
       "1  vomitting     none     none      none  ...      none      none      none   \n",
       "2  vomitting     none     none      none  ...      none      none      none   \n",
       "3  vomitting     none     none      none  ...      none      none      none   \n",
       "4  vomitting     none     none      none  ...      none      none      none   \n",
       "\n",
       "  Symptom47 Symptom48 Symptom49 Symptom50 Symptom51 Symptom52  \\\n",
       "0      none      none      none      none      none      none   \n",
       "1      none      none      none      none      none      none   \n",
       "2      none      none      none      none      none      none   \n",
       "3      none      none      none      none      none      none   \n",
       "4      none      none      none      none      none      none   \n",
       "\n",
       "                   Disease  \n",
       "0  Squamous cell carcinoma  \n",
       "1  Squamous cell carcinoma  \n",
       "2  Squamous cell carcinoma  \n",
       "3  Squamous cell carcinoma  \n",
       "4  Squamous cell carcinoma  \n",
       "\n",
       "[5 rows x 53 columns]"
      ]
     },
     "execution_count": 21,
     "metadata": {},
     "output_type": "execute_result"
    }
   ],
   "source": [
    "data.head()"
   ]
  },
  {
   "cell_type": "code",
   "execution_count": 3,
   "id": "f3912a59",
   "metadata": {},
   "outputs": [],
   "source": [
    "# Extract symptom features and create a list of unique symptoms\n",
    "symptom_features = list(set(data[['Symptom1', 'Symptom2', 'Symptom3', 'Symptom4', 'Symptom5', 'Symptom6', 'Symptom7', 'Symptom8', 'Symptom9', 'Symptom10', 'Symptom11', 'Symptom12', 'Symptom13', 'Symptom14', 'Symptom15', 'Symptom16', 'Symptom17', 'Symptom18', 'Symptom19', 'Symptom20', 'Symptom21', 'Symptom22', 'Symptom23', 'Symptom24', 'Symptom25', 'Symptom26', 'Symptom27', 'Symptom28', 'Symptom29', 'Symptom30', 'Symptom31', 'Symptom32', 'Symptom33', 'Symptom34', 'Symptom35', 'Symptom36', 'Symptom37', 'Symptom38', 'Symptom39', 'Symptom40', 'Symptom41', 'Symptom42', 'Symptom43', 'Symptom44', 'Symptom45', 'Symptom46', 'Symptom47', 'Symptom48', 'Symptom49', 'Symptom50', 'Symptom51', 'Symptom52']].values.ravel()))"
   ]
  },
  {
   "cell_type": "code",
   "execution_count": 4,
   "id": "af41d9dd",
   "metadata": {},
   "outputs": [],
   "source": [
    "# Convert symptoms columns to lists of symptoms\n",
    "data.iloc[:, :-1] = data.iloc[:, :-1].apply(lambda x: x.str.split(','))"
   ]
  },
  {
   "cell_type": "code",
   "execution_count": 5,
   "id": "d8ed24e2",
   "metadata": {},
   "outputs": [],
   "source": [
    "# Flatten the symptom lists\n",
    "data.iloc[:, :-1] = data.iloc[:, :-1].apply(lambda x: [item for sublist in x for item in sublist])"
   ]
  },
  {
   "cell_type": "code",
   "execution_count": 6,
   "id": "0a9ee3d7",
   "metadata": {},
   "outputs": [],
   "source": [
    "# Extract the symptom columns as a list of lists\n",
    "symptoms = data.iloc[:, :-1].values.tolist()"
   ]
  },
  {
   "cell_type": "code",
   "execution_count": 7,
   "id": "89310129",
   "metadata": {},
   "outputs": [],
   "source": [
    "# Initialize MultiLabelBinarizer for one-hot encoding\n",
    "mlb = MultiLabelBinarizer(classes=symptom_features)\n",
    "mlb.fit(symptoms)\n",
    "symptoms_encoded = mlb.transform(symptoms)"
   ]
  },
  {
   "cell_type": "code",
   "execution_count": 8,
   "id": "48a5e93d",
   "metadata": {},
   "outputs": [],
   "source": [
    "# Create DataFrame for encoded symptoms\n",
    "X = pd.DataFrame(symptoms_encoded, columns=mlb.classes_)\n",
    "y = data['Disease']"
   ]
  },
  {
   "cell_type": "code",
   "execution_count": 9,
   "id": "98508e79",
   "metadata": {},
   "outputs": [],
   "source": [
    "# Split the data into training and testing sets\n",
    "X_train, X_test, y_train, y_test = train_test_split(X, y, test_size=0.2, random_state=42)"
   ]
  },
  {
   "cell_type": "code",
   "execution_count": 10,
   "id": "7ecac210",
   "metadata": {},
   "outputs": [
    {
     "data": {
      "text/plain": [
       "RandomForestClassifier(random_state=42)"
      ]
     },
     "execution_count": 10,
     "metadata": {},
     "output_type": "execute_result"
    }
   ],
   "source": [
    "# Create and train Random Forest classifier\n",
    "classifier = RandomForestClassifier(random_state=42)\n",
    "classifier.fit(X_train, y_train)"
   ]
  },
  {
   "cell_type": "code",
   "execution_count": 11,
   "id": "d7c13ddc",
   "metadata": {},
   "outputs": [],
   "source": [
    "# Predict labels for the test set\n",
    "y_pred = classifier.predict(X_test)"
   ]
  },
  {
   "cell_type": "code",
   "execution_count": 12,
   "id": "d34295ff",
   "metadata": {},
   "outputs": [
    {
     "name": "stdout",
     "output_type": "stream",
     "text": [
      "Random Forest Accuracy: 100.00%\n"
     ]
    }
   ],
   "source": [
    "# Calculate accuracy\n",
    "accuracy = accuracy_score(y_test, y_pred)\n",
    "print(f'Random Forest Accuracy: {accuracy * 100:.2f}%')"
   ]
  },
  {
   "cell_type": "code",
   "execution_count": 13,
   "id": "be6288bd",
   "metadata": {},
   "outputs": [
    {
     "name": "stdout",
     "output_type": "stream",
     "text": [
      "Classification Report:\n",
      "                               precision    recall  f1-score   support\n",
      "\n",
      "                     Diabetes       1.00      1.00      1.00         1\n",
      "Feline Immunodeficiency Virus       1.00      1.00      1.00         1\n",
      "        Feline Leukemia Virus       1.00      1.00      1.00         2\n",
      "                   Gingivitis       1.00      1.00      1.00         3\n",
      "                    Heartworm       1.00      1.00      1.00         2\n",
      "              Hyperthyroidism       1.00      1.00      1.00         1\n",
      "                Lymphosarcoma       1.00      1.00      1.00         2\n",
      "                 Pancreatitis       1.00      1.00      1.00         2\n",
      "                Periodontitis       1.00      1.00      1.00         3\n",
      "                       Rabies       1.00      1.00      1.00         1\n",
      "                     Ringworm       1.00      1.00      1.00         1\n",
      "      Squamous cell carcinoma       1.00      1.00      1.00         2\n",
      " Upper Respiratory Infections       1.00      1.00      1.00         2\n",
      "                        Worms       1.00      1.00      1.00         1\n",
      "\n",
      "                     accuracy                           1.00        24\n",
      "                    macro avg       1.00      1.00      1.00        24\n",
      "                 weighted avg       1.00      1.00      1.00        24\n",
      "\n"
     ]
    }
   ],
   "source": [
    "# Print classification report\n",
    "classification_report_str = classification_report(y_test, y_pred)\n",
    "print(\"Classification Report:\")\n",
    "print(classification_report_str)"
   ]
  },
  {
   "cell_type": "code",
   "execution_count": 14,
   "id": "a4b61a50",
   "metadata": {},
   "outputs": [],
   "source": [
    "# Generate confusion matrix\n",
    "conf_matrix = confusion_matrix(y_test, y_pred)"
   ]
  },
  {
   "cell_type": "code",
   "execution_count": 17,
   "id": "5184f48b",
   "metadata": {},
   "outputs": [
    {
     "data": {
      "image/png": "[encoded data removed]",
      "text/plain": [
       "<Figure size 720x576 with 1 Axes>"
      ]
     },
     "metadata": {
      "needs_background": "light"
     },
     "output_type": "display_data"
    }
   ],
   "source": [
    "# Plot confusion matrix\n",
    "plt.figure(figsize=(10, 8))\n",
    "sns.heatmap(conf_matrix, annot=True, fmt=\"d\", cmap=\"Blues\", cbar=False, \n",
    "            xticklabels=classifier.classes_, yticklabels=classifier.classes_)\n",
    "plt.xlabel('Predicted Label')\n",
    "plt.ylabel('True Label')\n",
    "plt.title('Confusion Matrix')\n",
    "plt.show()"
   ]
  },
  {
   "cell_type": "code",
   "execution_count": null,
   "id": "870208f8",
   "metadata": {},
   "outputs": [],
   "source": []
  },
  {
   "cell_type": "code",
   "execution_count": null,
   "id": "35511c0a",
   "metadata": {},
   "outputs": [],
   "source": []
  }
 ],
 "metadata": {
  "kernelspec": {
   "display_name": "Python 3 (ipykernel)",
   "language": "python",
   "name": "python3"
  },
  "language_info": {
   "codemirror_mode": {
    "name": "ipython",
    "version": 3
   },
   "file_extension": ".py",
   "mimetype": "text/x-python",
   "name": "python",
   "nbconvert_exporter": "python",
   "pygments_lexer": "ipython3",
   "version": "3.9.12"
  }
 },
 "nbformat": 4,
 "nbformat_minor": 5
}
